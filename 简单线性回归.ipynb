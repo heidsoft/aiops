{
  "nbformat": 4,
  "nbformat_minor": 0,
  "metadata": {
    "colab": {
      "private_outputs": true,
      "provenance": [],
      "gpuType": "T4",
      "authorship_tag": "ABX9TyOSkknlQx0s6j5IZ69OC1OR",
      "include_colab_link": true
    },
    "kernelspec": {
      "name": "python3",
      "display_name": "Python 3"
    },
    "language_info": {
      "name": "python"
    }
  },
  "cells": [
    {
      "cell_type": "markdown",
      "metadata": {
        "id": "view-in-github",
        "colab_type": "text"
      },
      "source": [
        "<a href=\"https://colab.research.google.com/github/heidsoft/aiops/blob/main/%E7%AE%80%E5%8D%95%E7%BA%BF%E6%80%A7%E5%9B%9E%E5%BD%92.ipynb\" target=\"_parent\"><img src=\"https://colab.research.google.com/assets/colab-badge.svg\" alt=\"Open In Colab\"/></a>"
      ]
    },
    {
      "cell_type": "code",
      "execution_count": null,
      "metadata": {
        "id": "kyXX__u4B8Xq"
      },
      "outputs": [],
      "source": [
        "!python --version\n",
        "!pip install pandas\n",
        "import pandas as pd\n",
        "url = \"https://raw.githubusercontent.com/AnnaShestova/salary-years-simple-linear-regression/master/Salary_Data.csv\"\n",
        "data = pd.read_csv(url)\n",
        "print(data)\n",
        "# y= wx+b\n",
        "x = data[\"YearsExperience\"]\n",
        "y = data[\"Salary\"]"
      ]
    },
    {
      "cell_type": "code",
      "source": [
        "!pip install wget\n",
        "import wget\n",
        "\n",
        "wget.download(\"https://github.com/YuchenS1/Matplotlib-Chinese-Fonts/raw/master/SimHei.ttf\")"
      ],
      "metadata": {
        "id": "ZgGiNN04E4x1"
      },
      "execution_count": null,
      "outputs": []
    },
    {
      "cell_type": "code",
      "source": [
        "import matplotlib.pyplot as plt\n",
        "import matplotlib as mlp\n",
        "from matplotlib.font_manager import fontManager\n",
        "fontManager.addfont(\"SimHei.ttf\")\n",
        "mlp.rc('font',family=\"SimHei\")\n",
        "#https://stackoverflow.com/questions/58361594/matplotlib-glyph-8722-missing-from-current-font-despite-being-in-font-manager\n",
        "plt.rc('axes', unicode_minus=False)\n",
        "# marker 设置标记， color 设置颜色\n",
        "plt.scatter(x,y,marker='x',color='red')\n",
        "plt.title(\"年资-薪水\")\n",
        "plt.xlabel(\"年资\")\n",
        "plt.ylabel(\"薪水\")\n",
        "plt.show()"
      ],
      "metadata": {
        "id": "vTyTIZENDkne"
      },
      "execution_count": null,
      "outputs": []
    },
    {
      "cell_type": "code",
      "source": [
        "#w = 0\n",
        "#b = 0\n",
        "def plot_pred(w,b):\n",
        "  y_pred = w*x + b\n",
        "  plt.plot(x,y_pred,color='green',label=\"预测线\")\n",
        "  plt.scatter(x,y,marker='x',color='red',label=\"真实值\")\n",
        "  plt.title(\"年资-薪水\")\n",
        "  plt.xlabel(\"年资\")\n",
        "  plt.ylabel(\"薪水\")\n",
        "  plt.xlim([0,12]) #设置x轴的限制范围\n",
        "  plt.ylim([-100,150000]) #设置y轴的限制范围\n",
        "  plt.legend() #显示图例\n",
        "  plt.show()\n",
        "\n",
        "plot_pred(0,0)\n",
        "plot_pred(0,10)\n",
        "plot_pred(10000,0)\n",
        "plot_pred(12000,0)\n",
        "plot_pred(15000,0)"
      ],
      "metadata": {
        "id": "Tflc9rv2KGRx"
      },
      "execution_count": null,
      "outputs": []
    },
    {
      "cell_type": "code",
      "source": [
        "from ipywidgets import interact\n",
        "interact(plot_pred, w=(-10000,12000,1),b=(0,15,1))"
      ],
      "metadata": {
        "id": "wdPsCuzkP2nZ"
      },
      "execution_count": null,
      "outputs": []
    },
    {
      "cell_type": "code",
      "source": [
        "y_pred = w*x+b\n",
        "cost = (y-y_pred)**2\n",
        "cost.sum()/len(x)"
      ],
      "metadata": {
        "id": "BO-2A9_2iZWR"
      },
      "execution_count": null,
      "outputs": []
    },
    {
      "cell_type": "code",
      "source": [
        "def compute_cost(x,y,w,b):\n",
        "  y_pred = w*x+b\n",
        "  cost = (y-y_pred)**2\n",
        "  cost = cost.sum()/len(x)\n",
        "  return cost\n",
        "\n",
        "compute_cost(x,y,10,10)"
      ],
      "metadata": {
        "id": "MCY3lTQUj2u_"
      },
      "execution_count": null,
      "outputs": []
    },
    {
      "cell_type": "code",
      "source": [
        "#b=0 w [-100,201]之间，查看cost会是多少\n",
        "b=0\n",
        "costs = []\n",
        "for w in range (100,20001):\n",
        "  cost = compute_cost(x,y,w,b)\n",
        "  costs.append(cost)\n",
        "print(costs)"
      ],
      "metadata": {
        "id": "iP5LJQVWkr_e"
      },
      "execution_count": null,
      "outputs": []
    },
    {
      "cell_type": "code",
      "source": [
        "#plt.scatter(range (100,20001),costs,color='green')\n",
        "plt.plot(range (100,20001),costs,color='green')\n",
        "plt.title(\"抛物线\")\n",
        "plt.show()"
      ],
      "metadata": {
        "id": "6cRGwPJ6mDQ_"
      },
      "execution_count": null,
      "outputs": []
    },
    {
      "cell_type": "code",
      "source": [
        "import numpy as np\n",
        "ws = np.arange(100,20001)\n",
        "bs = np.arange(100,20001)\n",
        "print(len(ws))\n",
        "\n",
        "# 函数用于创建一个全为零的数组。如果想要给每列赋值不同的数值\n",
        "# https://juejin.cn/s/np.zeros%E5%87%BD%E6%95%B0%E6%AF%8F%E5%88%97%E8%B5%8B%E5%80%BC\n",
        "costs = np.zeros((19901,19901))\n",
        "i = 0\n",
        "for w in ws:\n",
        "  j = 0\n",
        "  for b in bs:\n",
        "    cost = compute_cost(x,y,w,b)\n",
        "    costs[i,j] = cost\n",
        "    j = j+1\n",
        "  i = i+1\n",
        "print(len(bs))\n",
        "print(len(ws))\n",
        "print(len(costs))\n",
        "print(costs)\n"
      ],
      "metadata": {
        "id": "78hPfd4HoBrB"
      },
      "execution_count": null,
      "outputs": []
    },
    {
      "cell_type": "code",
      "source": [
        "# 构建3D图\n",
        "ax = plt.axes(projection='3d')\n",
        "# ax = plt.axes(projection=\"3d\")\n",
        "#ax.xaxis.set_pane_color((0,0,0))\n",
        "#ax.yaxis.set_pane_color((0,0,0))\n",
        "#ax.zaxis.set_pane_color((0,0,0))\n",
        "print(len(bs))\n",
        "print(len(ws))\n",
        "print(len(costs))\n",
        "b_grid, w_grid = np.meshgrid(bs,ws)\n",
        "#绘图表面\n",
        "ax.plot_surface(ws,bs,costs,cmap=\"Spectral_r\",alpha=0.7)\n",
        "#设置边框\n",
        "ax.plot_wireframe(ws,bs,costs,alpha=0.1)\n",
        "plt.show()"
      ],
      "metadata": {
        "id": "dxmLGdLoq1zq"
      },
      "execution_count": null,
      "outputs": []
    },
    {
      "cell_type": "code",
      "source": [],
      "metadata": {
        "id": "IqC30cNYrmnS"
      },
      "execution_count": null,
      "outputs": []
    }
  ]
}